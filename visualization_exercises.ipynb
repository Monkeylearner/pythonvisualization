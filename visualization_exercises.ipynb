{
 "cells": [
  {
   "cell_type": "markdown",
   "metadata": {},
   "source": [
    "# Visualization Exercises\n",
    "----"
   ]
  },
  {
   "cell_type": "markdown",
   "metadata": {},
   "source": [
    "There are multiple ways, across multiple packages, to complete these exercises.  Some answers are given, but there are other possibilities.  \n",
    "\n",
    "Note: if you have better solutions to these please [let me know](mailto:christina.maimone@northwestern.edu)."
   ]
  },
  {
   "cell_type": "markdown",
   "metadata": {},
   "source": [
    "## Imports\n",
    "\n",
    "A few imports to avoid having to do them for each exercise."
   ]
  },
  {
   "cell_type": "code",
   "execution_count": 2,
   "metadata": {
    "collapsed": true
   },
   "outputs": [],
   "source": [
    "import pandas as pd\n",
    "import numpy as np\n",
    "import matplotlib\n",
    "import matplotlib.pyplot as plt\n",
    "\n",
    "import datetime as dt\n",
    "import matplotlib.dates as dates\n",
    "\n",
    "import seaborn as sns\n",
    "\n",
    "%matplotlib inline"
   ]
  },
  {
   "cell_type": "markdown",
   "metadata": {},
   "source": [
    "## Get Some Data\n",
    "\n",
    "The first exercises use data from [Gapminder](http://www.gapminder.org). Read `gapminder_5y_tidy.csv` from https://github.com/nuitrcs/pythonworkshops/raw/master/dataanalysis/datasets/gapminder_5y_tidy.csv (or the datasets directory of the repository) into a pandas data frame called `gapminder`.  Look at the first few observations."
   ]
  },
  {
   "cell_type": "code",
   "execution_count": null,
   "metadata": {
    "collapsed": false
   },
   "outputs": [],
   "source": [
    "gapminder = pd.read_csv(\"datasets/gapminder_5y_tidy.csv\")\n",
    "gapminder.head()"
   ]
  },
  {
   "cell_type": "markdown",
   "metadata": {},
   "source": [
    "## Exercise: Scatter Plot\n",
    "\n",
    "Using the `gapminder` data, plot life expectancy (`lifeExp`) vs. GDP per capita (`gdpPercap`) for the year 2002.  Make sure to label the axes and give the plot a title.\n",
    "\n",
    "Challenge: Redo the plot, coloring the points by continent.  Make sure to add a legend.  Hint: there are a few ways to do this.  If you get stuck, take a look at https://matplotlib.org/examples/lines_bars_and_markers/scatter_with_legend.html or https://stackoverflow.com/questions/26139423/plot-different-color-for-different-categorical-levels-using-matplotlib for some approaches.  Hint 2: This may be easiest using Seaborn with the `lmplot` and option `fit_reg` set to false.\n",
    "\n",
    "Challenge (not contingent on the challenge above): Redo the plot and change the gdp axes to be on a log scale (alter the scale, not the data)."
   ]
  },
  {
   "cell_type": "code",
   "execution_count": null,
   "metadata": {
    "collapsed": false
   },
   "outputs": [],
   "source": []
  },
  {
   "cell_type": "markdown",
   "metadata": {},
   "source": [
    "## Exercise: Line Plot\n",
    "\n",
    "Using the gapminder data, plot the average life expectancy in Asia (average across countries) over time.\n",
    "\n",
    "To start, you'll need to select just the observations for Asia, then group by year, then calculate the mean for each group (you can do this in one line).\n",
    "\n",
    "Hint: if you use `groupby` in calculating the mean, the groups become the index of the data frame.  You can use function `reset_index()` to make an index into a column again that you can reference when plotting."
   ]
  },
  {
   "cell_type": "code",
   "execution_count": null,
   "metadata": {
    "collapsed": false
   },
   "outputs": [],
   "source": []
  },
  {
   "cell_type": "markdown",
   "metadata": {},
   "source": [
    "## Exercise: Box Plot\n",
    "\n",
    "Using the gapminder data, make a box plot of life expectancy by continent for the year 2002.  Hint: use Seaborn"
   ]
  },
  {
   "cell_type": "code",
   "execution_count": null,
   "metadata": {
    "collapsed": false
   },
   "outputs": [],
   "source": []
  },
  {
   "cell_type": "markdown",
   "metadata": {},
   "source": [
    "## Exercise: Heat Map\n",
    "\n",
    "Using Seaborn and the gapminder data, make a heat map of a matrix with years as columns, continents as rows, and average life expectancy as the cell value.  You're aiming for something that looks like:\n",
    "\n",
    "![heatmap](https://raw.githubusercontent.com/nuitrcs/pythonvisualization/master/heatmap.png)\n",
    "\n",
    "Hint: the trick here is getting the data in the right format; you may need to `unstack` some grouped data."
   ]
  },
  {
   "cell_type": "code",
   "execution_count": null,
   "metadata": {
    "collapsed": false
   },
   "outputs": [],
   "source": []
  },
  {
   "cell_type": "markdown",
   "metadata": {},
   "source": [
    "## Challenging Exercise: Replicate a Plot\n",
    "\n",
    "Replicate the plot below using matplotlib.  Some code is provided for categories, colors, and offsets.  The steps are to help guide you to some of the steps involved, but you may instead want to start by making a basic version of the plot and then adding in steps to clean it up.  This exercise is really about steps you can take to make a plot look better and convey information more effectively.\n",
    "\n",
    "![degrees](http://www.randalolson.com/wp-content/uploads/percent-bachelors-degrees-women-usa.png)"
   ]
  },
  {
   "cell_type": "markdown",
   "metadata": {},
   "source": [
    "Some steps/notes:\n",
    "\n",
    "* You typically want a plot to be ~1.33x wider than tall. This plot is an exception because of the number of lines being plotted on it.  Size: 12 x 14   \n",
    "  \n",
    "* Remove the plot frame lines. They are unnecessary.    \n",
    "  \n",
    "* Ensure that the axis ticks only show up on the bottom and left of the plot.  Ticks on the right and top of the plot are generally unnecessary.    \n",
    "   \n",
    "* Limit the range of the plot to only where the data is.  Avoid unnecessary whitespace.    \n",
    "   \n",
    "* Make sure your axis ticks are large enough to be easily read.  You don't want your viewers squinting to read your plot.  Format your y axis labels with a %\n",
    "       \n",
    "* Provide tick lines (dotted grid lines) across the plot to help your viewers trace along the axis ticks. Make sure that the lines are light and small so they don't obscure the primary data lines. Then remove the tick marks; they are unnecessary with the tick lines we just plotted. \n",
    "\n",
    "* Make sure plot labels are big enough to read\n",
    "\n",
    "* Create the title using `text()` instead of `title()` so you can control the positioning\n"
   ]
  },
  {
   "cell_type": "code",
   "execution_count": null,
   "metadata": {
    "collapsed": true
   },
   "outputs": [],
   "source": [
    "gender_degree_data = pd.read_csv(\"http://www.randalolson.com/wp-content/uploads/percent-bachelors-degrees-women-usa.csv\")    \n",
    "  \n",
    "# These are the \"Tableau 20\" colors as RGB.    \n",
    "tableau20 = [(31, 119, 180), (174, 199, 232), (255, 127, 14), (255, 187, 120),    \n",
    "             (44, 160, 44), (152, 223, 138), (214, 39, 40), (255, 152, 150),    \n",
    "             (148, 103, 189), (197, 176, 213), (140, 86, 75), (196, 156, 148),    \n",
    "             (227, 119, 194), (247, 182, 210), (127, 127, 127), (199, 199, 199),    \n",
    "             (188, 189, 34), (219, 219, 141), (23, 190, 207), (158, 218, 229)]    \n",
    "  \n",
    "# Scale the RGB values to the [0, 1] range, which is the format matplotlib accepts.    \n",
    "for i in range(len(tableau20)):    \n",
    "    r, g, b = tableau20[i]    \n",
    "    tableau20[i] = (r / 255., g / 255., b / 255.)    \n",
    "       \n",
    "# majors in order of the highest % in the final year.    \n",
    "majors = ['Health Professions', 'Public Administration', 'Education', 'Psychology',    \n",
    "          'Foreign Languages', 'English', 'Communications\\nand Journalism',    \n",
    "          'Art and Performance', 'Biology', 'Agriculture',    \n",
    "          'Social Sciences and History', 'Business', 'Math and Statistics',    \n",
    "          'Architecture', 'Physical Sciences', 'Computer Science',    \n",
    "          'Engineering']    \n",
    "\n",
    "# You'll want to set up the plot here\n",
    "\n",
    "# Actually plot\n",
    "for rank, column in enumerate(majors):    \n",
    "    # Replace the line below with code to actually draw each line.\n",
    "    # rank gives you an index 0, 1, ...\n",
    "    pass;\n",
    "  \n",
    "    # Add text labels for each line\n",
    "    # To get the text labels positioned nicely, you may need to \n",
    "    # offset them a bit to keep them from overlapping\n",
    "    y_pos = 0 # replace 0 with an expression to get the end of each line\n",
    "    \n",
    "    # you may need to adjust these, but they are what the plot author used originally\n",
    "    if column == \"Foreign Languages\":    \n",
    "        y_pos += 0.5    \n",
    "    elif column == \"English\":    \n",
    "        y_pos -= 0.5    \n",
    "    elif column == \"Communications\\nand Journalism\":    \n",
    "        y_pos += 0.75    \n",
    "    elif column == \"Art and Performance\":    \n",
    "        y_pos -= 0.25    \n",
    "    elif column == \"Agriculture\":    \n",
    "        y_pos += 1.25    \n",
    "    elif column == \"Social Sciences and History\":    \n",
    "        y_pos += 0.25    \n",
    "    elif column == \"Business\":    \n",
    "        y_pos -= 0.75    \n",
    "    elif column == \"Math and Statistics\":    \n",
    "        y_pos += 0.75    \n",
    "    elif column == \"Architecture\":    \n",
    "        y_pos -= 0.75    \n",
    "    elif column == \"Computer Science\":    \n",
    "        y_pos += 0.75    \n",
    "    elif column == \"Engineering\":    \n",
    "        y_pos -= 0.25    \n",
    "   \n",
    "    # create the label now that you know where it goes\n",
    "\n",
    "# you might have some finishing touches to do down here"
   ]
  },
  {
   "cell_type": "markdown",
   "metadata": {},
   "source": [
    "This exercise is taken from http://www.randalolson.com/2014/06/28/how-to-make-beautiful-data-visualizations-in-python-with-matplotlib/ and the full answer is there."
   ]
  },
  {
   "cell_type": "markdown",
   "metadata": {},
   "source": [
    "## Exercise: Interpolated 3D Surace from Points\n",
    "\n",
    "Generate 20 random points in 3 dimensions and plot them in 3D.  \n",
    "\n",
    "Then change the orientation (tilt, rotation) of the plot to a pleasing angle.  [hint](https://matplotlib.org/examples/mplot3d/rotate_axes3d_demo.html)\n",
    "\n",
    "Challenge: Then use the points to interpolate a 3D surface and plot that (interpolate z given x and y). [hint](https://docs.scipy.org/doc/scipy-0.14.0/reference/generated/scipy.interpolate.griddata.html)  \n",
    "\n",
    "You may want to investigate effects of different grid sizes and interpolation methods."
   ]
  },
  {
   "cell_type": "code",
   "execution_count": null,
   "metadata": {
    "collapsed": false
   },
   "outputs": [],
   "source": []
  },
  {
   "cell_type": "markdown",
   "metadata": {
    "collapsed": true
   },
   "source": [
    "## Exercise: xkcd for fun (and learning styling and annotations)\n",
    "\n",
    "Can you produce [this xkcd comic](https://imgs.xkcd.com/comics/self_description.png) in `matplotlib`?  A copy is in the repository as `xkcd.png`.  There's an xkcd style for `matplotlib`.  \n",
    "\n",
    "![chartviz](xkcd.png)\n",
    "\n",
    "Notes:\n",
    "* For the first panel, you might not be able to get the lines from the text to the plot exactly like the reference image with the `annotate` function, but you can get close.  \n",
    "* For panel 3, putting arrows on the spines (axis lines) doesn't work well with the XKCD style, so you might want to skip that (the solution skips it -- if you find a way other than manually drawing arrow heads, [let me know](mailto:christina.maimone@northwestern.edu)).\n",
    "* Drawing a border around each subplot is a manual process (no built in matplotlib function) so skip that.\n",
    "\n",
    "Plot produced by the solution looks like:\n",
    "\n",
    "![chartviz](xkcd_solution.png)\n",
    "\n",
    "(If you come up with a better answer, [let me know](mailto:christina.maimone@northwestern.edu).)"
   ]
  },
  {
   "cell_type": "code",
   "execution_count": null,
   "metadata": {
    "collapsed": true
   },
   "outputs": [],
   "source": []
  }
 ],
 "metadata": {
  "kernelspec": {
   "display_name": "Python 3 (conda p3)",
   "language": "python",
   "name": "p3"
  },
  "language_info": {
   "codemirror_mode": {
    "name": "ipython",
    "version": 3
   },
   "file_extension": ".py",
   "mimetype": "text/x-python",
   "name": "python",
   "nbconvert_exporter": "python",
   "pygments_lexer": "ipython3",
   "version": "3.6.1"
  }
 },
 "nbformat": 4,
 "nbformat_minor": 2
}
