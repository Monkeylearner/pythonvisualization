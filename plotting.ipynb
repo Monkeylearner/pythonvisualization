{
 "cells": [
  {
   "cell_type": "markdown",
   "metadata": {},
   "source": [
    "# Data Visualization in Python\n",
    "----\n",
    "\n",
    "# [matplotlib](https://matplotlib.org/) and pandas"
   ]
  },
  {
   "cell_type": "markdown",
   "metadata": {},
   "source": [
    "pandas uses matplotlib to make plotting data sets easy.  You can also use features of matplotlib directly when plotting. We're going to use both methods below to see the differences and similarities.  The method (pandas or matplotlib) is marked for the cells so you can keep track of the different methods."
   ]
  },
  {
   "cell_type": "markdown",
   "metadata": {},
   "source": [
    "## Parts of a matplotlib plot\n",
    "\n",
    "<img src=\"plotparts.png\" width=300px>"
   ]
  },
  {
   "cell_type": "markdown",
   "metadata": {},
   "source": [
    "<img src=\"anatomy1.png\" width=400px>"
   ]
  },
  {
   "cell_type": "markdown",
   "metadata": {},
   "source": [
    "## matplotlib documentation \n",
    "\n",
    "matplotlib.org\n",
    "\n",
    "* http://matplotlib.org/users/beginner.html\n",
    "* http://matplotlib.org/api/pyplot_summary.html\n",
    "* http://matplotlib.org/gallery.html "
   ]
  },
  {
   "cell_type": "markdown",
   "metadata": {},
   "source": [
    "## Getting Started\n",
    "\n",
    "Import libraries, tell the notebook to show matplotlib plots inline.  Use `%matplotlib notebook` instead for interactive plots; note that with interactive plots, you'll need to use `plt.close()` to close them afterward."
   ]
  },
  {
   "cell_type": "code",
   "execution_count": null,
   "metadata": {
    "collapsed": false
   },
   "outputs": [],
   "source": [
    "%matplotlib inline\n",
    "\n",
    "import pandas as pd\n",
    "import numpy as np\n",
    "\n",
    "import matplotlib.pyplot as plt\n",
    "import matplotlib\n",
    "\n",
    "import datetime as dt\n",
    "import matplotlib.dates as dates"
   ]
  },
  {
   "cell_type": "markdown",
   "metadata": {},
   "source": [
    "Read in [earthquakes data](http://www.ldeo.columbia.edu/~felixw/NCAeqDD/).  It's on the large side, so it will take a minute to load.\n",
    "\n",
    "Note that there's a bunch of extra info at the start of the file, so we'll need to skip that.  Also, some columns are combined under a single header, so we'll manually specify the header."
   ]
  },
  {
   "cell_type": "raw",
   "metadata": {},
   "source": [
    "From the file:\n",
    "\n",
    "FORMAT DESCRIPTION:\n",
    "DATE......... Year, Month, Day\n",
    "TIME......... Hour, Minute, Second\n",
    "LAT/LON...... Location\n",
    "DEP.......... Depth [km]\n",
    "EH1/EH2/AZ... Horizontal major/minor axis [km] and azimuth of the 95% \n",
    "              relative location error ellipses. (-1 if not available).\n",
    "EV........... Vertical relative location error [km] at the 95%\n",
    "              confidence level. (-1 if not available).\n",
    "MAG.......... Magnitude, ML, as listed in the NCSN catalog. \n",
    "ID........... CUSP event ID."
   ]
  },
  {
   "cell_type": "code",
   "execution_count": null,
   "metadata": {
    "collapsed": false
   },
   "outputs": [],
   "source": [
    "df = pd.read_csv(\"http://www.ldeo.columbia.edu/~felixw/NCAeqDD/NCAeqDD.v201112.1.gz\", \n",
    "                 compression='gzip',\n",
    "                 delim_whitespace=True, skiprows=79, na_values=[-1],\n",
    "                 names=[\"YEAR\", \"MONTH\", \"DAY\", \"HOUR\", \"MINUTE\", \"SECOND\",\n",
    "                        \"LAT\", \"LON\", \"DEP\", \"EH1\", \"EH2\", \"AZ\", \"EV\", \"MAG\", \"ID\"])\n",
    "df.head(10)"
   ]
  },
  {
   "cell_type": "markdown",
   "metadata": {},
   "source": [
    "Let's plot magnitude vs. depth, using only the first 50 obs.  See what different options do.\n",
    "\n",
    "Let's just plot the data frame directly to start, using pandas defaults"
   ]
  },
  {
   "cell_type": "code",
   "execution_count": null,
   "metadata": {
    "collapsed": false
   },
   "outputs": [],
   "source": [
    "#pandas\n",
    "df[:50].plot(x='MAG', y='DEP')"
   ]
  },
  {
   "cell_type": "markdown",
   "metadata": {},
   "source": [
    "Hmm, not really what we want.  \n",
    "\n",
    "Line plot is the default (see https://pandas.pydata.org/pandas-docs/stable/generated/pandas.DataFrame.plot.html), but we can change that with the [`kind`](https://pandas.pydata.org/pandas-docs/stable/generated/pandas.DataFrame.plot.html) parameter.  \n",
    "\n",
    "Also note that we can omit the `<matplotlib.axes._subplots.AxesSubplot at 0x113d62898>` type output by putting a ; at the end of the plotting line"
   ]
  },
  {
   "cell_type": "code",
   "execution_count": null,
   "metadata": {
    "collapsed": false
   },
   "outputs": [],
   "source": [
    "#pandas\n",
    "df[:50].plot(x='MAG', y='DEP', kind='scatter'); # semicolon suppresses printing object info"
   ]
  },
  {
   "cell_type": "markdown",
   "metadata": {},
   "source": [
    "Note that pandas conveniently gave us a default legend (for the line plot) and axis labels."
   ]
  },
  {
   "cell_type": "markdown",
   "metadata": {},
   "source": [
    "We could also use matplotlib directly.  `plt` is the alias for `matplotlib.pyplot` that we imported above.  See https://matplotlib.org/api/pyplot_api.html.  `plot` will make a line plot.  We use the `scatter` function for a scatter plot."
   ]
  },
  {
   "cell_type": "code",
   "execution_count": null,
   "metadata": {
    "collapsed": false
   },
   "outputs": [],
   "source": [
    "#matplotlib\n",
    "plt.scatter(df['MAG'][:50], df['DEP'][:50]);"
   ]
  },
  {
   "cell_type": "markdown",
   "metadata": {},
   "source": [
    "We lost the default axis labels that pandas gave us.  Also, default marker size is a little different.\n",
    "\n",
    "Now change the [plot marker](https://matplotlib.org/api/markers_api.html).  We can add the `marker` option to either pandas' `DataFrame.plot` or matplotlib's `scatter`.  "
   ]
  },
  {
   "cell_type": "code",
   "execution_count": null,
   "metadata": {
    "collapsed": false
   },
   "outputs": [],
   "source": [
    "# pandas\n",
    "df[:50].plot(x='MAG', y='DEP', kind=\"scatter\", marker=\"v\");"
   ]
  },
  {
   "cell_type": "markdown",
   "metadata": {},
   "source": [
    "We can also change the marker size"
   ]
  },
  {
   "cell_type": "code",
   "execution_count": null,
   "metadata": {
    "collapsed": false
   },
   "outputs": [],
   "source": [
    "# matplotlib\n",
    "plt.scatter(df['MAG'][:50], df['DEP'][:50], marker=\"v\", s=150); "
   ]
  },
  {
   "cell_type": "markdown",
   "metadata": {},
   "source": [
    "How did we get marker size of 150?  Largely through trial and error.  However, marker sizes are in the units of the plot, and are proportional to the area of the marker.  "
   ]
  },
  {
   "cell_type": "code",
   "execution_count": null,
   "metadata": {
    "collapsed": false
   },
   "outputs": [],
   "source": [
    "plt.figure(figsize=(10, 3.5))\n",
    "plt.scatter(range(0,100,2), y=[0]*50, s=range(0,100,2));"
   ]
  },
  {
   "cell_type": "markdown",
   "metadata": {},
   "source": [
    "Marker sizes don't have to be a constant.  They can be a function of other variables.  Now make each marker size a function of the magnitude (not a great idea from a visualization perspective...but we'll do a better example next)"
   ]
  },
  {
   "cell_type": "code",
   "execution_count": null,
   "metadata": {
    "collapsed": false
   },
   "outputs": [],
   "source": [
    "# matplotlib\n",
    "plt.scatter(df['MAG'][:50], df['DEP'][:50], marker=\"v\", \n",
    "            s=[10+100*df['MAG'][:50]]);"
   ]
  },
  {
   "cell_type": "markdown",
   "metadata": {},
   "source": [
    "Let's change some other options on a pandas plot.  Using the `rdata` below, make a line plot, with x=idx and y=val; change the line color to red and make the line width size bigger (line width option is `linewidth`).  Refer to the [documentation](https://pandas.pydata.org/pandas-docs/stable/generated/pandas.DataFrame.plot.html) as needed."
   ]
  },
  {
   "cell_type": "code",
   "execution_count": null,
   "metadata": {
    "collapsed": false
   },
   "outputs": [],
   "source": [
    "rdata = pd.DataFrame({'idx':range(20), 'val':np.random.randint(0,100,size=20)})"
   ]
  },
  {
   "cell_type": "code",
   "execution_count": null,
   "metadata": {
    "collapsed": false
   },
   "outputs": [],
   "source": [
    "rdata.head()"
   ]
  },
  {
   "cell_type": "code",
   "execution_count": null,
   "metadata": {
    "collapsed": false
   },
   "outputs": [],
   "source": [
    "# write plot code here\n"
   ]
  },
  {
   "cell_type": "markdown",
   "metadata": {},
   "source": [
    "## Colorbar legend"
   ]
  },
  {
   "cell_type": "markdown",
   "metadata": {},
   "source": [
    "We're aiming to make this plot:"
   ]
  },
  {
   "cell_type": "markdown",
   "metadata": {},
   "source": [
    "![colorbar](colorbar.png)"
   ]
  },
  {
   "cell_type": "markdown",
   "metadata": {},
   "source": [
    "First, make a subset of the data with only earthquakes of magnitude 5 or more"
   ]
  },
  {
   "cell_type": "code",
   "execution_count": null,
   "metadata": {
    "collapsed": true
   },
   "outputs": [],
   "source": [
    "bigones = df[df['MAG'] >= 5]"
   ]
  },
  {
   "cell_type": "markdown",
   "metadata": {},
   "source": [
    "Color markers by year of earthquake"
   ]
  },
  {
   "cell_type": "code",
   "execution_count": null,
   "metadata": {
    "collapsed": false
   },
   "outputs": [],
   "source": [
    "#pandas\n",
    "bigones.plot(x='MAG', y='DEP', # data\n",
    "                   kind='scatter', # type of plot\n",
    "                   s=50, # marker size\n",
    "                   cmap=\"cool\", # color scheme: https://matplotlib.org/users/colormaps.html\n",
    "                   c=bigones['YEAR'], # specific color for each point \n",
    "             title=\"Large Earthquakes\");"
   ]
  },
  {
   "cell_type": "markdown",
   "metadata": {},
   "source": [
    "Pandas gave us a default legend again, but we're missing the x-axis labels for some reason.  Not sure why this happens sometimes (there are some bugs like this in pandas), but we can also make the plot with matplotlib.  Start with the scatter plot."
   ]
  },
  {
   "cell_type": "code",
   "execution_count": null,
   "metadata": {
    "collapsed": false
   },
   "outputs": [],
   "source": [
    "# matplotlib\n",
    "pts = plt.scatter(bigones['MAG'], bigones['DEP'], # data\n",
    "            s=50, # marker size\n",
    "            cmap=\"cool\", # color scheme: https://matplotlib.org/users/colormaps.html\n",
    "            c=bigones['YEAR']) "
   ]
  },
  {
   "cell_type": "markdown",
   "metadata": {},
   "source": [
    "Add the legend"
   ]
  },
  {
   "cell_type": "code",
   "execution_count": null,
   "metadata": {
    "collapsed": false
   },
   "outputs": [],
   "source": [
    "#matplotlib\n",
    "\n",
    "# we'll save the output from the plot call so we can use the data later for a legend\n",
    "# specific color for each point (range between 0 and 1)\n",
    "pts = plt.scatter(bigones['MAG'], bigones['DEP'], # data\n",
    "            s=50, # marker size\n",
    "            cmap=\"cool\", # color scheme: https://matplotlib.org/users/colormaps.html\n",
    "            c=bigones['YEAR']) \n",
    "plt.ylabel(\"Depth\")\n",
    "plt.xlabel(\"Magnitude\")\n",
    "plt.title(\"Large Earthquakes\")\n",
    "clrbar = plt.colorbar(pts); # give it the pts you plotted"
   ]
  },
  {
   "cell_type": "markdown",
   "metadata": {},
   "source": [
    "Let's color by a different variable instead: `EV`, which is an error estimate on depth (I think).  Copy code from above, and make the changes you need.  Also change to the plasma color scheme."
   ]
  },
  {
   "cell_type": "code",
   "execution_count": null,
   "metadata": {
    "collapsed": false
   },
   "outputs": [],
   "source": []
  },
  {
   "cell_type": "markdown",
   "metadata": {},
   "source": [
    "## Working with Dates, Aggregating"
   ]
  },
  {
   "cell_type": "markdown",
   "metadata": {},
   "source": [
    "Make some plots of data over time.\n",
    "\n",
    "### Monthly Earthquake Counts\n",
    "\n",
    "Start by making a plot of monthly earthquake counts for the last 4 years of the data.\n",
    "\n",
    "![monthly](monthly_earthquake.png)"
   ]
  },
  {
   "cell_type": "markdown",
   "metadata": {},
   "source": [
    "Make a proper date column (instead of the current multiple columns for each part of the date) in the data frame so that we can plot by date.  Setting the new date column as an index lets us group by month easily."
   ]
  },
  {
   "cell_type": "code",
   "execution_count": null,
   "metadata": {
    "collapsed": true
   },
   "outputs": [],
   "source": [
    "df['datetime'] = pd.to_datetime(df[df.columns[range(6)]]) ## first 6 columns are year, month, day, hour, min, sec\n",
    "df = df.set_index(\"datetime\")"
   ]
  },
  {
   "cell_type": "code",
   "execution_count": null,
   "metadata": {
    "collapsed": false,
    "scrolled": false
   },
   "outputs": [],
   "source": [
    "df.head()"
   ]
  },
  {
   "cell_type": "markdown",
   "metadata": {},
   "source": [
    "Plot number of earthquakes by month with a bar chart, limit to recent years (the last 48 observations are the last 4 years (4 years * 12 months).  We need to use a grouper to tell pandas how to group the data by month."
   ]
  },
  {
   "cell_type": "code",
   "execution_count": null,
   "metadata": {
    "collapsed": false
   },
   "outputs": [],
   "source": [
    "df.groupby(pd.Grouper(freq='M')).count()"
   ]
  },
  {
   "cell_type": "code",
   "execution_count": null,
   "metadata": {
    "collapsed": false
   },
   "outputs": [],
   "source": [
    "counts = df.groupby(pd.Grouper(freq='M')).count()['ID'][-48:] # do the aggregation\n",
    "counts.head()"
   ]
  },
  {
   "cell_type": "markdown",
   "metadata": {},
   "source": [
    "If we tried to just use the month variable, we'd end up with aggregates across month numbers:"
   ]
  },
  {
   "cell_type": "code",
   "execution_count": null,
   "metadata": {
    "collapsed": false
   },
   "outputs": [],
   "source": [
    "df.groupby(df.MONTH).count()['ID'][-48:]"
   ]
  },
  {
   "cell_type": "markdown",
   "metadata": {},
   "source": [
    "Another way to get the counts is to use `resample()` instead of a grouper:"
   ]
  },
  {
   "cell_type": "code",
   "execution_count": null,
   "metadata": {
    "collapsed": false
   },
   "outputs": [],
   "source": [
    "df.loc['2008-01-01':'2012-01-01']"
   ]
  },
  {
   "cell_type": "code",
   "execution_count": null,
   "metadata": {
    "collapsed": false
   },
   "outputs": [],
   "source": [
    "df.loc['2008-01-01':'2012-01-01'].resample('M').count()['ID'];"
   ]
  },
  {
   "cell_type": "markdown",
   "metadata": {},
   "source": [
    "When we plot this time, we'll need the axes, so we'll use `plt.subplots()` to have it returned.  `plt.subplots()` is a convenience function that returns both figure and axes, instead of doing:\n",
    "\n",
    "```\n",
    "fig = plt.figure(figsize=(10, 3.5))\n",
    "ax = plt.subplot(1,1,1) # or plt.subplot(111) is equivalent\n",
    "```"
   ]
  },
  {
   "cell_type": "code",
   "execution_count": null,
   "metadata": {
    "collapsed": false
   },
   "outputs": [],
   "source": [
    "# matplotlib\n",
    "fig, ax = plt.subplots(figsize=(10, 3.5)) # specify a plot size, use subplots to get axes because we'll need it later\n",
    "plt.bar(counts.index, counts, width=15) # if we don't set the bar width, some bars might not be visible with this many\n",
    "ax.xaxis_date()\n",
    "plt.title(\"Monthly Earthquake Count for Northern California\")\n",
    "plt.ylabel(\"Number of Earthquakes\");"
   ]
  },
  {
   "cell_type": "markdown",
   "metadata": {},
   "source": [
    "We could also plot the `counts` object directly, although pandas likes to take care of the formatting of the date axis and doesn't make it easy to change:"
   ]
  },
  {
   "cell_type": "code",
   "execution_count": null,
   "metadata": {
    "collapsed": false
   },
   "outputs": [],
   "source": [
    "#pandas\n",
    "counts.plot();"
   ]
  },
  {
   "cell_type": "code",
   "execution_count": null,
   "metadata": {
    "collapsed": false
   },
   "outputs": [],
   "source": [
    "#pandas \n",
    "counts.plot(kind=\"bar\", \n",
    "                 figsize=(10, 3.5),\n",
    "                title=\"Monthly Earthquake Count for Northern California\");"
   ]
  },
  {
   "cell_type": "markdown",
   "metadata": {},
   "source": [
    "### Hourly Counts on a Busy Day\n",
    "\n",
    "Plot hourly earthquakes on a busy day, October 18, 1989:\n",
    "\n",
    "![hourly](hourly_earthquakes.png)"
   ]
  },
  {
   "cell_type": "code",
   "execution_count": null,
   "metadata": {
    "collapsed": false
   },
   "outputs": [],
   "source": [
    "counts_hourly = df.loc['1989-10-18'].groupby(pd.Grouper(freq='H')).count()['ID']\n",
    "counts_hourly.head()"
   ]
  },
  {
   "cell_type": "code",
   "execution_count": null,
   "metadata": {
    "collapsed": true
   },
   "outputs": [],
   "source": [
    "# Another way to do the above:\n",
    "df.loc['1989-10-18'].resample('1H').count()['ID'];"
   ]
  },
  {
   "cell_type": "code",
   "execution_count": null,
   "metadata": {
    "collapsed": false
   },
   "outputs": [],
   "source": [
    "#matplotlib\n",
    "plt.subplots(figsize=(8, 3.5))\n",
    "plt.bar(counts_hourly.index, counts_hourly);"
   ]
  },
  {
   "cell_type": "markdown",
   "metadata": {},
   "source": [
    "Hmm, that doesn't look too good.  Fix it.  While we're at it, change the color and bar alignment.  And format the times to be just the hour.\n",
    "\n",
    "This time, will use the figure, then subplot method, instead of using the subplots function."
   ]
  },
  {
   "cell_type": "code",
   "execution_count": null,
   "metadata": {
    "collapsed": false
   },
   "outputs": [],
   "source": [
    "#matplotlib\n",
    "fig = plt.figure() # just a different way to do it\n",
    "ax = fig.add_subplot(111) ## saying that there's only one main plot being added to this figure\n",
    "plt.bar(counts_hourly.index, \n",
    "        counts_hourly, width=.03, color='g', align='center')\n",
    "ax.xaxis.set_major_formatter(dates.DateFormatter('%H'));"
   ]
  },
  {
   "cell_type": "markdown",
   "metadata": {},
   "source": [
    "Looking better, but we can make it nicer.  Also export the plot as pdf (type is determined by file name extension).  With `%matplotlib inline` turned on, the save statement needs to be in the same cell of the notebook with the plot creation to work."
   ]
  },
  {
   "cell_type": "code",
   "execution_count": null,
   "metadata": {
    "collapsed": false
   },
   "outputs": [],
   "source": [
    "#matplotlib\n",
    "fig, ax = plt.subplots() ## in one line instead of two above, just to show this\n",
    "plt.bar(counts_hourly.index, counts_hourly, width=.03, \n",
    "        color='g', align='center')\n",
    "ax.xaxis.set_major_formatter(dates.DateFormatter('%H:00'))\n",
    "#plt.ylim(0, 95) ## could modify ylim manually, but below works even if data changes\n",
    "ax.margins(0.025) ## control extra space at beginning and end of x-axis\n",
    "plt.title(\"Northern California Earthquakes, 18 October 1989\")\n",
    "plt.xlabel(\"Hour of the Day\")\n",
    "plt.ylabel(\"Number of Earthquakes\");\n",
    "plt.savefig(\"plot1.pdf\") # save the plot too"
   ]
  },
  {
   "cell_type": "markdown",
   "metadata": {},
   "source": [
    "## Layered Plots"
   ]
  },
  {
   "cell_type": "markdown",
   "metadata": {},
   "source": [
    "More on markers and legends; generate some random values with `randn` and make a histogram.  Add the theoretical distirbution line above it.\n",
    "\n",
    "![normal](normal.png)\n",
    "\n",
    "Info on named colors at https://matplotlib.org/examples/color/named_colors.html"
   ]
  },
  {
   "cell_type": "code",
   "execution_count": null,
   "metadata": {
    "collapsed": false
   },
   "outputs": [],
   "source": [
    "from scipy.stats import norm\n",
    "from numpy.random import randn\n",
    "\n",
    "# plot with matplotlib\n",
    "\n",
    "# keep the values returned from calling the histogram plot to use with the legend and next plot\n",
    "n, bins, patches = plt.hist(randn(1000), bins=40, \n",
    "                            normed=True, \n",
    "                            color=\"lightblue\")\n",
    "\n",
    "# add another plot on top of the histogram\n",
    "# save the value here too so we can use it for the legend\n",
    "l, = plt.plot(bins, norm.pdf(bins, 0.0, 1.0), \n",
    "              'g--', linewidth=3)\n",
    "## comma above in l, means unpack the returned tuple to give you just the line object\n",
    "\n",
    "plt.legend([l, patches[0]], ['theory', 'data']);"
   ]
  },
  {
   "cell_type": "markdown",
   "metadata": {},
   "source": [
    "## Annotating Plots"
   ]
  },
  {
   "cell_type": "markdown",
   "metadata": {},
   "source": [
    "First, make the plot"
   ]
  },
  {
   "cell_type": "code",
   "execution_count": null,
   "metadata": {
    "collapsed": false
   },
   "outputs": [],
   "source": [
    "# pandas with matplotlib adjustments\n",
    "counts = df.resample('D').count()['ID'];\n",
    "counts.plot() ## plot the Series directly\n",
    "plt.title(\"Daily Earthquake Count for Northern California\")\n",
    "plt.ylabel(\"Number of Earthquakes\");"
   ]
  },
  {
   "cell_type": "markdown",
   "metadata": {},
   "source": [
    "Then annotate one of the spikes:"
   ]
  },
  {
   "cell_type": "code",
   "execution_count": null,
   "metadata": {
    "collapsed": false
   },
   "outputs": [],
   "source": [
    "counts.plot() \n",
    "plt.title(\"Daily Earthquake Count for Northern California\")\n",
    "plt.ylabel(\"Number of Earthquakes\")\n",
    "plt.text(dt.datetime(1998,3,1), 925, \"Big One!\"); # use date to position on x-axis"
   ]
  },
  {
   "cell_type": "markdown",
   "metadata": {},
   "source": [
    "Or with an arrow"
   ]
  },
  {
   "cell_type": "code",
   "execution_count": null,
   "metadata": {
    "collapsed": false
   },
   "outputs": [],
   "source": [
    "counts.plot() \n",
    "plt.title(\"Daily Earthquake Count for Northern California\")\n",
    "plt.ylabel(\"Number of Earthquakes\")\n",
    "plt.annotate(\"Big One!\", xy=(dt.datetime(1998,3,1), 925),\n",
    "             xytext=(dt.datetime(2000,3,1), 800),\n",
    "             arrowprops=dict(facecolor='black', shrink=0.01, width=.1,\n",
    "                             headwidth=5));"
   ]
  },
  {
   "cell_type": "markdown",
   "metadata": {},
   "source": [
    "## Mathematical Functions\n",
    "\n",
    "Let's make a plot like the following:\n",
    "\n",
    "![mathplot](mathfunction.png) \n",
    "\n",
    "For math text used in the labels, see https://matplotlib.org/users/mathtext.html"
   ]
  },
  {
   "cell_type": "markdown",
   "metadata": {},
   "source": [
    "We'll take it step by step"
   ]
  },
  {
   "cell_type": "code",
   "execution_count": null,
   "metadata": {
    "collapsed": true
   },
   "outputs": [],
   "source": [
    "# generate data\n",
    "x = np.arange(-2*np.pi, 2*np.pi, 0.01)\n",
    "y = np.sin(x)"
   ]
  },
  {
   "cell_type": "code",
   "execution_count": null,
   "metadata": {
    "collapsed": false
   },
   "outputs": [],
   "source": [
    "# create empty plot\n",
    "fig = plt.figure(figsize=(4, 5));\n",
    "ax = fig.add_subplot(111);\n",
    "\n",
    "# basic plot\n",
    "# plot the sin wave\n",
    "ax.plot(x, y,\n",
    "        linewidth=3, # line thickness\n",
    "        alpha=0.3); # line opacity -- just setting so we can see the labels and exis through it"
   ]
  },
  {
   "cell_type": "code",
   "execution_count": null,
   "metadata": {
    "collapsed": false
   },
   "outputs": [],
   "source": [
    "fig = plt.figure(figsize=(4, 5));\n",
    "ax = fig.add_subplot(111);\n",
    "ax.plot(x, y,linewidth=3, alpha=0.3);\n",
    "\n",
    "# deal with bounding box \n",
    "# lose top and right\n",
    "# move bottom and left to the center like a mathematical graph\n",
    "ax.spines['top'].set_color('none')\n",
    "ax.spines['right'].set_color('none')\n",
    "ax.spines['left'].set_position('center')\n",
    "ax.spines['bottom'].set_position('center')\n",
    "\n",
    "ax.xaxis.set_ticks_position('bottom')\n",
    "ax.yaxis.set_ticks_position('left')"
   ]
  },
  {
   "cell_type": "code",
   "execution_count": null,
   "metadata": {
    "collapsed": false
   },
   "outputs": [],
   "source": [
    "fig = plt.figure(figsize=(4, 5));\n",
    "ax = fig.add_subplot(111);\n",
    "ax.plot(x, y,linewidth=3, alpha=0.3);\n",
    "ax.spines['top'].set_color('none')\n",
    "ax.spines['right'].set_color('none')\n",
    "ax.spines['left'].set_position('center')\n",
    "ax.spines['bottom'].set_position('center')\n",
    "ax.xaxis.set_ticks_position('bottom')\n",
    "ax.yaxis.set_ticks_position('left')\n",
    "\n",
    "# plot the reference lines\n",
    "ax.plot([0, np.pi/2], [1, 1], ls=\"--\", \n",
    "        color=\"green\", alpha=0.5)\n",
    "ax.plot([np.pi/2, np.pi/2], [1, 0], \n",
    "        ls=\"--\", color=\"red\", alpha=0.5);"
   ]
  },
  {
   "cell_type": "code",
   "execution_count": null,
   "metadata": {
    "collapsed": false
   },
   "outputs": [],
   "source": [
    "fig = plt.figure(figsize=(4, 5));\n",
    "ax = fig.add_subplot(111);\n",
    "ax.plot(x, y,linewidth=3, alpha=0.3);\n",
    "ax.spines['top'].set_color('none')\n",
    "ax.spines['right'].set_color('none')\n",
    "ax.spines['left'].set_position('center')\n",
    "ax.spines['bottom'].set_position('center')\n",
    "ax.xaxis.set_ticks_position('bottom')\n",
    "ax.yaxis.set_ticks_position('left')\n",
    "ax.plot([0, np.pi/2], [1, 1], ls=\"--\", \n",
    "        color=\"green\", alpha=0.5)\n",
    "ax.plot([np.pi/2, np.pi/2], [1, 0], \n",
    "        ls=\"--\", color=\"red\", alpha=0.5);\n",
    "\n",
    "# axis limits\n",
    "ax.set_xlim(-2*np.pi, 2*np.pi)\n",
    "ax.set_ylim(-1.5, 1.5)\n",
    "\n",
    "# axis labels\n",
    "xticker = np.arange(-np.pi-np.pi/2, np.pi+np.pi, np.pi/2)\n",
    "xlabels = [r\"$\\frac{-3\\pi}{2}$\", r\"${-\\pi}$\",\n",
    "           r\"$\\frac{-\\pi}{2}$\",\"\",r\"$\\frac{pi}{2}$\",\n",
    "           r\"${\\pi}$\",r\"$\\frac{3\\pi}{2}$\"]\n",
    "\n",
    "ax.set_xticks(xticker)\n",
    "ax.set_xticklabels(xlabels, size=17)\n",
    "\n",
    "yticker = np.arange(-1, 2, 1)\n",
    "ax.set_yticks(yticker);"
   ]
  },
  {
   "cell_type": "code",
   "execution_count": null,
   "metadata": {
    "collapsed": false
   },
   "outputs": [],
   "source": [
    "fig = plt.figure(figsize=(4, 5));\n",
    "ax = fig.add_subplot(111);\n",
    "ax.plot(x, y,linewidth=3, alpha=0.3);\n",
    "ax.spines['top'].set_color('none')\n",
    "ax.spines['right'].set_color('none')\n",
    "ax.spines['left'].set_position('center')\n",
    "ax.spines['bottom'].set_position('center')\n",
    "ax.xaxis.set_ticks_position('bottom')\n",
    "ax.yaxis.set_ticks_position('left')\n",
    "ax.plot([0, np.pi/2], [1, 1], ls=\"--\", \n",
    "        color=\"green\", alpha=0.5)\n",
    "ax.plot([np.pi/2, np.pi/2], [1, 0], \n",
    "        ls=\"--\", color=\"red\", alpha=0.5);\n",
    "ax.set_xlim(-2*np.pi, 2*np.pi)\n",
    "ax.set_ylim(-1.5, 1.5)\n",
    "xticker = np.arange(-np.pi-np.pi/2, np.pi+np.pi, np.pi/2)\n",
    "xlabels = [r\"$\\frac{-3\\pi}{2}$\", r\"${-\\pi}$\",\n",
    "           r\"$\\frac{-\\pi}{2}$\",\"\",r\"$\\frac{pi}{2}$\",\n",
    "           r\"${\\pi}$\",r\"$\\frac{3\\pi}{2}$\"]\n",
    "ax.set_xticks(xticker)\n",
    "ax.set_xticklabels(xlabels, size=17)\n",
    "yticker = np.arange(-1, 2, 1)\n",
    "ax.set_yticks(yticker);\n",
    "\n",
    "# annotation of function line\n",
    "ax.text(np.pi, 1.1, \"y=sin(x)\");"
   ]
  },
  {
   "cell_type": "markdown",
   "metadata": {},
   "source": [
    "## Subplots"
   ]
  },
  {
   "cell_type": "markdown",
   "metadata": {},
   "source": [
    "We used the subplot function above, but not to create multiple plots.  Let's actually make more than one.  \n",
    "\n",
    "![multiple](twoplots.png)\n",
    "\n",
    "The marker/line type specification shortcuts used below can be seen at https://matplotlib.org/api/pyplot_api.html#matplotlib.pyplot.plot"
   ]
  },
  {
   "cell_type": "code",
   "execution_count": null,
   "metadata": {
    "collapsed": false
   },
   "outputs": [],
   "source": [
    "# function and arrays to generate some data\n",
    "def f(t):\n",
    "    return np.exp(-t) * np.cos(2*np.pi*t)\n",
    "\n",
    "t1 = np.arange(0.0, 5.0, 0.1)\n",
    "t2 = np.arange(0.0, 5.0, 0.02)\n",
    "\n",
    "# create a figure\n",
    "plt.figure(1)\n",
    "plt.subplot(211) # 211 = 2 rows, 1 column, first plot\n",
    "plt.plot(t1, f(t1), 'bo', \n",
    "         t2, f(t2), 'k') # bo = blue, o marker\n",
    "\n",
    "plt.subplot(212) # 212 = 2 rows, 1 column, second plot\n",
    "plt.plot(t2, np.cos(2*np.pi*t2), 'r--'); # r-- = red, dashed line"
   ]
  },
  {
   "cell_type": "markdown",
   "metadata": {},
   "source": [
    "## Styling\n",
    "\n",
    "You can change the default style of matplotlib plots.  A list of available styles:"
   ]
  },
  {
   "cell_type": "code",
   "execution_count": null,
   "metadata": {
    "collapsed": false
   },
   "outputs": [],
   "source": [
    "print(matplotlib.style.available)"
   ]
  },
  {
   "cell_type": "markdown",
   "metadata": {},
   "source": [
    "And you can see a gallery of what plots look like in the styles at https://tonysyu.github.io/raw_content/matplotlib-style-gallery/gallery.html"
   ]
  },
  {
   "cell_type": "markdown",
   "metadata": {},
   "source": [
    "To just affect a single plot, with `with`"
   ]
  },
  {
   "cell_type": "code",
   "execution_count": null,
   "metadata": {
    "collapsed": false
   },
   "outputs": [],
   "source": [
    "with plt.style.context(('dark_background')):\n",
    "    pts = plt.scatter(bigones['MAG'], bigones['DEP'], # data\n",
    "            s=50, # marker size\n",
    "            cmap=\"cool\", # color scheme: https://matplotlib.org/users/colormaps.html\n",
    "            c=1.0*(bigones['YEAR']-1983)/28) # specific color for each point (range between 0 and 1)\n",
    "    plt.ylabel(\"Depth\")\n",
    "    plt.xlabel(\"Magnitude\")\n",
    "    plt.title(\"Large Earthquakes\")\n",
    "    clrbar = plt.colorbar(pts, ticks=[1.0/28, 27.0/28]) # data takes values from 1983=1/28, 2010=27/28 (none in 2011)\n",
    "    clrbar.ax.set_yticklabels(['1984', '2010'])"
   ]
  },
  {
   "cell_type": "code",
   "execution_count": null,
   "metadata": {
    "collapsed": false
   },
   "outputs": [],
   "source": [
    "with plt.style.context(('fivethirtyeight')):\n",
    "    pts = plt.scatter(bigones['MAG'], bigones['DEP'], # data\n",
    "            s=50, # marker size\n",
    "            cmap=\"cool\", # color scheme: https://matplotlib.org/users/colormaps.html\n",
    "            c=1.0*(bigones['YEAR']-1983)/28) # specific color for each point (range between 0 and 1)\n",
    "    plt.ylabel(\"Depth\")\n",
    "    plt.xlabel(\"Magnitude\")\n",
    "    plt.title(\"Large Earthquakes\")\n",
    "    clrbar = plt.colorbar(pts, ticks=[1.0/28, 27.0/28]) # data takes values from 1983=1/28, 2010=27/28 (none in 2011)\n",
    "    clrbar.ax.set_yticklabels(['1984', '2010'])"
   ]
  },
  {
   "cell_type": "markdown",
   "metadata": {},
   "source": [
    "You can also write your own styles: https://matplotlib.org/users/style_sheets.html"
   ]
  },
  {
   "cell_type": "markdown",
   "metadata": {},
   "source": [
    "## Interactive Plots\n",
    "\n",
    "Above we turned off the interactive plots in the notebook.  Let's turn them back on to see what they do."
   ]
  },
  {
   "cell_type": "code",
   "execution_count": null,
   "metadata": {
    "collapsed": false
   },
   "outputs": [],
   "source": [
    "%matplotlib notebook\n",
    "plt.figure()\n",
    "pts = plt.scatter(bigones['MAG'], bigones['DEP'], # data\n",
    "        s=50, # marker size\n",
    "        cmap=\"cool\", # color scheme: https://matplotlib.org/users/colormaps.html\n",
    "        c=1.0*(bigones['YEAR']-1983)/28) # specific color for each point (range between 0 and 1)\n",
    "plt.ylabel(\"Depth\")\n",
    "plt.xlabel(\"Magnitude\")\n",
    "plt.title(\"Large Earthquakes\")\n",
    "clrbar = plt.colorbar(pts, ticks=[1.0/28, 27.0/28]) # data takes values from 1983=1/28, 2010=27/28 (none in 2011)\n",
    "clrbar.ax.set_yticklabels(['1984', '2010']);"
   ]
  },
  {
   "cell_type": "markdown",
   "metadata": {},
   "source": [
    "And now turn it back off:"
   ]
  },
  {
   "cell_type": "code",
   "execution_count": null,
   "metadata": {
    "collapsed": true
   },
   "outputs": [],
   "source": [
    "%matplotlib inline"
   ]
  },
  {
   "cell_type": "markdown",
   "metadata": {},
   "source": [
    "## Image Data\n",
    "\n",
    "Plot a MRI image, change the [color map](https://matplotlib.org/examples/color/colormaps_reference.html); [source](https://matplotlib.org/examples/pylab_examples/mri_demo.html)\n",
    "\n",
    "[Colormap creation tool](http://jdherman.github.io/colormap/)"
   ]
  },
  {
   "cell_type": "code",
   "execution_count": null,
   "metadata": {
    "collapsed": true
   },
   "outputs": [],
   "source": [
    "import matplotlib.cbook as cbook # for the data\n",
    "import matplotlib.cm as cm # for color map"
   ]
  },
  {
   "cell_type": "code",
   "execution_count": null,
   "metadata": {
    "collapsed": false
   },
   "outputs": [],
   "source": [
    "fig, ax = plt.subplots(num=\"MRI_demo\")\n",
    "\n",
    "# Data are 256x256 16 bit integers\n",
    "dfile = cbook.get_sample_data('s1045.ima.gz')\n",
    "im = np.fromstring(dfile.read(), np.uint16).astype(float)\n",
    "im.shape = (256, 256)\n",
    "dfile.close()\n",
    "\n",
    "ax.imshow(im, cmap=cm.gray)\n",
    "ax.axis('off');"
   ]
  },
  {
   "cell_type": "code",
   "execution_count": null,
   "metadata": {
    "collapsed": false
   },
   "outputs": [],
   "source": [
    "fig, ax = plt.subplots(num=\"MRI_demo\")\n",
    "ax.imshow(im, cmap=cm.viridis)\n",
    "ax.axis('off')"
   ]
  },
  {
   "cell_type": "code",
   "execution_count": null,
   "metadata": {
    "collapsed": false
   },
   "outputs": [],
   "source": [
    "c = np.matrix('0,0,0; 0,0,0; 0,1,1; 0,1,1; 0,1,1; 0,1,2; 0,2,2; 0,2,2; 0,2,3; 0,2,3; 0,3,3; 0,3,4; 0,3,4; 0,3,4; 0,4,5; 0,4,5; 0,4,5; 0,4,6; 0,5,6; 0,5,6; 0,5,7; 0,5,7; 0,6,7; 0,6,8; 0,6,8; 0,6,8; 0,7,9; 0,7,9; 0,7,10; 0,7,10; 0,8,10; 0,8,11; 0,8,11; 0,8,11; 0,9,12; 0,9,12; 0,9,12; 0,9,13; 0,10,13; 0,10,13; 0,10,14; 0,10,14; 0,11,14; 0,11,15; 0,11,15; 0,11,15; 0,12,16; 0,12,16; 0,12,16; 0,12,17; 0,13,17; 0,13,17; 0,13,18; 0,13,18; 0,14,18; 0,14,19; 0,14,19; 0,15,19; 0,15,20; 0,15,20; 0,15,20; 0,16,21; 0,16,21; 0,16,21; 0,16,22; 1,17,23; 1,18,24; 1,19,25; 2,20,26; 2,21,27; 3,22,28; 3,23,29; 4,23,30; 4,24,31; 4,25,32; 5,26,33; 5,27,34; 6,28,35; 6,29,36; 6,30,37; 7,30,38; 7,31,39; 8,32,40; 8,33,41; 9,34,42; 9,35,44; 9,36,45; 10,37,46; 10,37,47; 11,38,48; 11,39,49; 12,40,50; 12,41,51; 12,42,52; 13,43,53; 13,44,54; 14,44,55; 14,45,56; 15,46,57; 15,47,58; 15,48,59; 16,49,60; 16,50,61; 17,50,62; 17,51,63; 17,52,64; 18,53,65; 18,54,66; 19,55,67; 19,56,68; 20,57,69; 20,57,70; 20,58,71; 21,59,72; 21,60,73; 22,61,74; 22,62,75; 23,63,77; 23,64,78; 23,64,79; 24,65,80; 24,66,81; 25,67,82; 25,68,83; 26,69,84; 26,70,85; 26,71,86; 27,71,87; 28,72,88; 29,74,89; 31,75,90; 32,76,91; 34,77,92; 35,78,93; 37,80,93; 38,81,94; 40,82,95; 41,83,96; 43,84,97; 44,86,98; 46,87,99; 48,88,100; 49,89,101; 51,90,102; 52,91,103; 54,93,104; 55,94,105; 57,95,106; 58,96,107; 60,97,108; 61,99,109; 63,100,110; 64,101,110; 66,102,111; 67,103,112; 69,105,113; 70,106,114; 72,107,115; 73,108,116; 75,109,117; 76,110,118; 78,112,119; 79,113,120; 81,114,121; 82,115,122; 84,116,123; 85,118,124; 87,119,125; 88,120,126; 90,121,127; 91,122,128; 93,124,128; 94,125,129; 96,126,130; 98,127,131; 99,128,132; 101,129,133; 102,131,134; 104,132,135; 105,133,136; 107,134,137; 108,135,138; 110,137,139; 111,138,140; 113,139,141; 114,140,142; 116,141,143; 117,143,144; 119,144,145; 120,145,145; 122,146,146; 123,147,147; 125,149,148; 127,151,148; 129,152,148; 131,154,149; 133,156,149; 135,157,149; 138,159,149; 140,161,150; 142,162,150; 144,164,150; 146,166,150; 148,167,151; 150,169,151; 152,171,151; 154,172,151; 156,174,152; 158,176,152; 160,177,152; 162,179,152; 164,181,153; 166,183,153; 168,184,153; 171,186,153; 173,188,154; 175,189,154; 177,191,154; 179,193,154; 181,194,155; 183,196,155; 185,198,155; 187,199,155; 189,201,156; 191,203,156; 193,204,156; 195,206,156; 197,208,157; 199,210,157; 201,211,157; 203,213,157; 206,215,158; 208,216,158; 210,218,158; 212,220,158; 214,221,159; 216,223,159; 218,225,159; 220,226,159; 222,228,160; 224,230,160; 226,231,160; 228,233,161; 230,235,161; 232,236,161; 234,238,161; 236,240,162; 239,242,162; 241,243,162; 243,245,162; 245,247,163; 247,248,163; 249,250,163; 251,252,163; 253,253,164; 255,255,164')\n",
    "cmp = matplotlib.colors.ListedColormap(c/255.0)"
   ]
  },
  {
   "cell_type": "code",
   "execution_count": null,
   "metadata": {
    "collapsed": false
   },
   "outputs": [],
   "source": [
    "fig, ax = plt.subplots(num=\"MRI_demo\")\n",
    "ax.imshow(im, cmap=cmp)\n",
    "ax.axis('off')"
   ]
  },
  {
   "cell_type": "markdown",
   "metadata": {},
   "source": [
    "## 3D Surfaces\n",
    "\n",
    "[mplot3d](https://matplotlib.org/mpl_toolkits/mplot3d/index.html) if for 3D plotting.  [Example source](https://matplotlib.org/examples/mplot3d/custom_shaded_3d_surface.html)"
   ]
  },
  {
   "cell_type": "code",
   "execution_count": null,
   "metadata": {
    "collapsed": false
   },
   "outputs": [],
   "source": [
    "from mpl_toolkits.mplot3d import Axes3D\n",
    "from matplotlib.colors import LightSource\n",
    "\n",
    "filename = cbook.get_sample_data('jacksboro_fault_dem.npz', \n",
    "                                 asfileobj=False) #data\n",
    "with np.load(filename) as dem:\n",
    "    z = dem['elevation']\n",
    "    nrows, ncols = z.shape\n",
    "    x = np.linspace(dem['xmin'], dem['xmax'], ncols)\n",
    "    y = np.linspace(dem['ymin'], dem['ymax'], nrows)\n",
    "    x, y = np.meshgrid(x, y)\n",
    "\n",
    "region = np.s_[5:50, 5:50]\n",
    "x, y, z = x[region], y[region], z[region]\n",
    "\n",
    "print(x.shape)"
   ]
  },
  {
   "cell_type": "code",
   "execution_count": null,
   "metadata": {
    "collapsed": false
   },
   "outputs": [],
   "source": [
    "%matplotlib notebook\n",
    "fig, ax = plt.subplots(subplot_kw=dict(projection='3d'))\n",
    "\n",
    "ls = LightSource(270, 45)\n",
    "# To use a custom hillshading mode, override the built-in shading and pass\n",
    "# in the rgb colors of the shaded surface calculated from \"shade\".\n",
    "rgb = ls.shade(z, cmap=cm.gist_earth, vert_exag=0.1, blend_mode='soft') # make colors\n",
    "surf = ax.plot_surface(x, y, z, # 2D arrays of data\n",
    "                       rstride=1, # row step\n",
    "                       cstride=1, # column step\n",
    "                       facecolors=rgb, #the shade from above\n",
    "                       shade=False) # because we already computed what we wanted"
   ]
  },
  {
   "cell_type": "code",
   "execution_count": null,
   "metadata": {
    "collapsed": true
   },
   "outputs": [],
   "source": [
    "%matplotlib inline"
   ]
  },
  {
   "cell_type": "markdown",
   "metadata": {},
   "source": [
    "# [Seaborn](https://seaborn.pydata.org)\n",
    "----"
   ]
  },
  {
   "cell_type": "markdown",
   "metadata": {},
   "source": [
    "[Seaborn](https://seaborn.pydata.org) is one option moving beyond the basic plots.  It's focus is statistical visualization.\n",
    "\n",
    "Seaborn is not part of the Anaconda distribution, so you'll need to install it.  Copy the command below into a new cell and run it (only the first time you need to use it):\n",
    "\n",
    "```\n",
    "!pip3 install seaborn\n",
    "```\n",
    "\n",
    "Note that if you're running multiple versions of Python on your system, you might need to install the package from the command line instead into the correct environment.  Via the terminal, if you're using Anaconda, use `conda install seaborn`."
   ]
  },
  {
   "cell_type": "code",
   "execution_count": null,
   "metadata": {
    "collapsed": false
   },
   "outputs": [],
   "source": [
    "import seaborn as sns"
   ]
  },
  {
   "cell_type": "markdown",
   "metadata": {},
   "source": [
    "## Density/Bivariate Distribution Plots"
   ]
  },
  {
   "cell_type": "markdown",
   "metadata": {},
   "source": [
    "When we have a lot of data, scatter plots can get difficult to read.  Let's do a density plot instead to explore a bivariate distribution.  Seaborn has several options, both for the density plot and supplementary plots along the axes.  http://seaborn.pydata.org/tutorial/distributions.html#plotting-bivariate-distributions"
   ]
  },
  {
   "cell_type": "code",
   "execution_count": null,
   "metadata": {
    "collapsed": false
   },
   "outputs": [],
   "source": [
    "sns.jointplot(x=df['MAG'][:1000], \n",
    "              y=df['DEP'][:1000], \n",
    "              kind=\"hex\", \n",
    "              color=\"k\"); # color k is black"
   ]
  },
  {
   "cell_type": "markdown",
   "metadata": {},
   "source": [
    "`jointplot` takes care of the overall plot.  If you want more control over the core and axes plots, you can add a density plot and axes plots to an existing matplotlib figure."
   ]
  },
  {
   "cell_type": "code",
   "execution_count": null,
   "metadata": {
    "collapsed": false
   },
   "outputs": [],
   "source": [
    "sns.set() # use Seaborn default styling\n",
    "fig, ax = plt.subplots(figsize=(6, 6))\n",
    "sns.kdeplot(df['MAG'][:1000], df['DEP'][:1000], ax=ax)\n",
    "sns.rugplot(df['MAG'][:1000], color=\"g\", ax=ax)\n",
    "sns.rugplot(df['DEP'][:1000], vertical=True, ax=ax);"
   ]
  },
  {
   "cell_type": "markdown",
   "metadata": {},
   "source": [
    "## Regression and Trend Lines"
   ]
  },
  {
   "cell_type": "markdown",
   "metadata": {},
   "source": [
    "Seaborn has many functions for visualizing linear relationships and even interaction effect between (or conditional effects of) variables: http://seaborn.pydata.org/tutorial/regression.html\n",
    "\n",
    "First, a standard regression plot"
   ]
  },
  {
   "cell_type": "code",
   "execution_count": null,
   "metadata": {
    "collapsed": false
   },
   "outputs": [],
   "source": [
    "sns.regplot(x=\"MAG\", y=\"DEP\", data=df[:1000]);"
   ]
  },
  {
   "cell_type": "markdown",
   "metadata": {},
   "source": [
    "This includes a 95% confidence interval on the slope coefficient in the plot by default (you can turn it off with the `ci` parameter).  We can also plot the residuals (errors) from a regression to check fit and adherence to model assumptions:  "
   ]
  },
  {
   "cell_type": "code",
   "execution_count": null,
   "metadata": {
    "collapsed": false
   },
   "outputs": [],
   "source": [
    "sns.residplot(\"MAG\",\"DEP\", df[:1000]);"
   ]
  },
  {
   "cell_type": "markdown",
   "metadata": {},
   "source": [
    "There are further options for variations like polynomial fits, logistic regression, loess smoothing, and robust regression (eliminates/down-weights outliers).\n",
    "\n",
    "In addition to `regplot`, there's also the slightly more powerful `lmplot` that let's us condition the slope and intercept on a third variable."
   ]
  },
  {
   "cell_type": "code",
   "execution_count": null,
   "metadata": {
    "collapsed": false
   },
   "outputs": [],
   "source": [
    "df['north'] = df['LAT'] > 38 # create a new variable to divide earthquakes by latitude\n",
    "sns.lmplot(x=\"MAG\", y=\"DEP\", hue=\"north\", data=df.sample(500));"
   ]
  },
  {
   "cell_type": "code",
   "execution_count": null,
   "metadata": {
    "collapsed": true
   },
   "outputs": [],
   "source": []
  }
 ],
 "metadata": {
  "kernelspec": {
   "display_name": "Python 3 (conda p3)",
   "language": "python",
   "name": "p3"
  },
  "language_info": {
   "codemirror_mode": {
    "name": "ipython",
    "version": 3
   },
   "file_extension": ".py",
   "mimetype": "text/x-python",
   "name": "python",
   "nbconvert_exporter": "python",
   "pygments_lexer": "ipython3",
   "version": "3.6.1"
  }
 },
 "nbformat": 4,
 "nbformat_minor": 2
}
